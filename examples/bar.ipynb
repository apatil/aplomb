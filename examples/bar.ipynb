{
  "worksheets": [
    {
      "cells": [
        {
          "outputs": [
            {
              "text": [
                "- : unit = ()\n"
              ],
              "output_type": "stream",
              "stream": "stdout"
            },
            {
              "text": [
                "Findlib has been successfully loaded. Additional directives:\n",
                "  #require \"package\";;      to load a package\n",
                "  #list;;                   to list the available packages\n",
                "  #camlp4o;;                to load camlp4 (standard syntax)\n",
                "  #camlp4r;;                to load camlp4 (revised syntax)\n",
                "  #predicates \"p,q,...\";;   to set these predicates\n",
                "  Topfind.reset();;         to force that packages will be reloaded\n",
                "  #thread;;                 to enable threads\n",
                "\n",
                "- : unit = ()\n"
              ],
              "output_type": "stream",
              "stream": "stdout"
            }
          ],
          "input": [
            "#use \"topfind\""
          ],
          "metadata": {},
          "cell_type": "code",
          "prompt_number": 1,
          "language": "python",
          "collapsed": false
        },
        {
          "outputs": [
            {
              "text": [
                "/home/anand/.opam/4.04.0/lib/ocaml/str.cma: loaded\n"
              ],
              "output_type": "stream",
              "stream": "stderr"
            },
            {
              "text": [
                "/home/anand/.opam/4.04.0/lib/easy-format: added to search path\n",
                "/home/anand/.opam/4.04.0/lib/easy-format/easy_format.cma: loaded\n"
              ],
              "output_type": "stream",
              "stream": "stderr"
            },
            {
              "text": [
                "/home/anand/.opam/4.04.0/lib/biniou: added to search path\n"
              ],
              "output_type": "stream",
              "stream": "stderr"
            },
            {
              "text": [
                "/home/anand/.opam/4.04.0/lib/biniou/biniou.cma: loaded\n"
              ],
              "output_type": "stream",
              "stream": "stderr"
            },
            {
              "text": [
                "/home/anand/.opam/4.04.0/lib/yojson: added to search path\n",
                "/home/anand/.opam/4.04.0/lib/yojson/yojson.cma: loaded\n"
              ],
              "output_type": "stream",
              "stream": "stderr"
            },
            {
              "text": [
                "/home/anand/.opam/4.04.0/lib/bytes: added to search path\n",
                "/home/anand/.opam/4.04.0/lib/uchar: added to search path\n",
                "/home/anand/.opam/4.04.0/lib/uutf: added to search path\n",
                "/home/anand/.opam/4.04.0/lib/uutf/uutf.cma: loaded\n"
              ],
              "output_type": "stream",
              "stream": "stderr"
            },
            {
              "text": [
                "/home/anand/.opam/4.04.0/lib/markup: added to search path\n"
              ],
              "output_type": "stream",
              "stream": "stderr"
            },
            {
              "text": [
                "/home/anand/.opam/4.04.0/lib/markup/markup.cma: loaded\n"
              ],
              "output_type": "stream",
              "stream": "stderr"
            },
            {
              "text": [
                "/home/anand/.opam/4.04.0/lib/ocaml/unix.cma: loaded\n"
              ],
              "output_type": "stream",
              "stream": "stderr"
            },
            {
              "text": [
                "/home/anand/.opam/4.04.0/lib/ocaml/bigarray.cma: loaded\n"
              ],
              "output_type": "stream",
              "stream": "stderr"
            },
            {
              "text": [
                "/home/anand/.opam/4.04.0/lib/integers: added to search path\n"
              ],
              "output_type": "stream",
              "stream": "stderr"
            },
            {
              "text": [
                "/home/anand/.opam/4.04.0/lib/integers/integers.cma: loaded\n"
              ],
              "output_type": "stream",
              "stream": "stderr"
            },
            {
              "text": [
                "/home/anand/.opam/4.04.0/lib/integers/integer_printers.cma: loaded\n"
              ],
              "output_type": "stream",
              "stream": "stderr"
            },
            {
              "text": [
                "/home/anand/.opam/4.04.0/lib/ctypes: added to search path\n",
                "/home/anand/.opam/4.04.0/lib/ctypes/ctypes.cma: loaded\n"
              ],
              "output_type": "stream",
              "stream": "stderr"
            },
            {
              "text": [
                "/home/anand/.opam/4.04.0/lib/ctypes/ctypes-top.cma: loaded\n"
              ],
              "output_type": "stream",
              "stream": "stderr"
            },
            {
              "text": [
                "/home/anand/.opam/4.04.0/lib/ctypes/ctypes-foreign-base.cma: loaded\n"
              ],
              "output_type": "stream",
              "stream": "stderr"
            },
            {
              "text": [
                "/home/anand/.opam/4.04.0/lib/ctypes/ctypes-foreign-unthreaded.cma: loaded\n"
              ],
              "output_type": "stream",
              "stream": "stderr"
            },
            {
              "text": [
                "/home/anand/.opam/4.04.0/lib/webview: added to search path\n"
              ],
              "output_type": "stream",
              "stream": "stderr"
            },
            {
              "text": [
                "/home/anand/.opam/4.04.0/lib/webview/webview.cma: loaded\n"
              ],
              "output_type": "stream",
              "stream": "stderr"
            },
            {
              "text": [
                "/home/anand/.opam/4.04.0/lib/vega-lite: added to search path\n",
                "/home/anand/.opam/4.04.0/lib/vega-lite/vegaLite.cma: loaded\n"
              ],
              "output_type": "stream",
              "stream": "stderr"
            },
            {
              "text": [
                "/home/anand/.opam/4.04.0/lib/re: added to search path\n",
                "/home/anand/.opam/4.04.0/lib/re/re.cma: loaded\n"
              ],
              "output_type": "stream",
              "stream": "stderr"
            },
            {
              "text": [
                "/home/anand/.opam/4.04.0/lib/re/re_posix.cma: loaded\n"
              ],
              "output_type": "stream",
              "stream": "stderr"
            },
            {
              "text": [
                "/home/anand/.opam/4.04.0/lib/stringext: added to search path\n"
              ],
              "output_type": "stream",
              "stream": "stderr"
            },
            {
              "text": [
                "/home/anand/.opam/4.04.0/lib/stringext/stringext.cma: loaded\n"
              ],
              "output_type": "stream",
              "stream": "stderr"
            },
            {
              "text": [
                "/home/anand/.opam/4.04.0/lib/sexplib: added to search path\n"
              ],
              "output_type": "stream",
              "stream": "stderr"
            },
            {
              "text": [
                "/home/anand/.opam/4.04.0/lib/sexplib/sexplib.cma: loaded\n"
              ],
              "output_type": "stream",
              "stream": "stderr"
            },
            {
              "text": [
                "/home/anand/.opam/4.04.0/lib/uri: added to search path\n",
                "/home/anand/.opam/4.04.0/lib/uri/uri.cma: loaded\n"
              ],
              "output_type": "stream",
              "stream": "stderr"
            },
            {
              "text": [
                "/home/anand/.opam/4.04.0/lib/aplomb: added to search path\n",
                "/home/anand/.opam/4.04.0/lib/aplomb/aplomb.cma: loaded\n"
              ],
              "output_type": "stream",
              "stream": "stderr"
            },
            {
              "text": [
                "/home/anand/.opam/4.04.0/lib/iocaml-kernel: added to search path\n",
                "/home/anand/.opam/4.04.0/lib/aplomb/IAplomb.cma: loaded\n"
              ],
              "output_type": "stream",
              "stream": "stderr"
            }
          ],
          "input": [
            "#require \"aplomb.iocaml\""
          ],
          "metadata": {},
          "cell_type": "code",
          "prompt_number": 2,
          "language": "python",
          "collapsed": false
        },
        {
          "outputs": [
            {
              "html": [
                "<pre style=\"color:slategray;max-height:100px;overflow:hidden\" \n",
                "onclick=\"\n",
                "if (this.style.maxHeight === 'none') \n",
                "    this.style.maxHeight = '100px';\n",
                "else\n",
                "    this.style.maxHeight = 'none'; \n",
                "\">val data : (string * [&gt; `Int of int array | `String of string array ]) list =\n",
                "  [(&quot;a&quot;, `String [|&quot;A&quot;; &quot;B&quot;; &quot;C&quot;; &quot;D&quot;; &quot;E&quot;; &quot;F&quot;; &quot;G&quot;; &quot;H&quot;; &quot;I&quot;|]);\n",
                "   (&quot;b&quot;, `Int [|28; 55; 43; 91; 81; 53; 19; 87; 52|])]\n",
                "</pre>"
              ],
              "output_type": "pyout",
              "prompt_number": 4,
              "metadata": {}
            }
          ],
          "input": [
            "let data = [\n",
            "  (\"a\", `String [| \"A\"; \"B\"; \"C\"; \"D\"; \"E\"; \"F\"; \"G\"; \"H\"; \"I\" |]);\n",
            "  (\"b\", `Int [| 28; 55; 43; 91; 81; 53; 19; 87; 52 |])\n",
            "]"
          ],
          "metadata": {},
          "cell_type": "code",
          "prompt_number": 4,
          "language": "python",
          "collapsed": false
        },
        {
          "outputs": [
            {
              "html": [
                "<pre style=\"color:slategray;max-height:100px;overflow:hidden\" \n",
                "onclick=\"\n",
                "if (this.style.maxHeight === 'none') \n",
                "    this.style.maxHeight = '100px';\n",
                "else\n",
                "    this.style.maxHeight = 'none'; \n",
                "\">val spec : VegaLite.V2.TopLevelExtendedSpec.t =\n",
                "  `Unit\n",
                "    {VegaLite.V2.TopLevelFacetedUnitSpec.width = Some (`Int 640);\n",
                "     transform = None; title = None; selection = None; padding = None;\n",
                "     name = None; mark = `Mark `Bar; height = Some (`Int 395);\n",
                "     encoding =\n",
                "      {VegaLite.V2.EncodingWithFacet.y2 = None;\n",
                "       y =\n",
                "        Some\n",
                "         (`Field\n",
                "            {VegaLite.V2.PositionFieldDef.typ = `Quantitative;\n",
                "             timeUnit = None; stack = None; sort = None; scale = None;\n",
                "             field = Some (`String &quot;b&quot;); bin = None; axis = None;\n",
                "             aggregate = None});\n",
                "       x2 = None;\n",
                "       x =\n",
                "        Some\n",
                "         (`Field\n",
                "            {VegaLite.V2.PositionFieldDef.typ = `Ordinal; timeUnit = None;\n",
                "             stack = None; sort = None; scale = None;\n",
                "             field = Some (`String &quot;a&quot;); bin = None; axis = None;\n",
                "             aggregate = None});\n",
                "       tooltip = None; text = None; size = None; shape = None; row = None;\n",
                "       order = None; opacity = None; detail = None; column = None;\n",
                "       color = None};\n",
                "     description = Some &quot;A simple bar chart with embedded data.&quot;;\n",
                "     data =\n",
                "      Some\n",
                "       (`Inline\n",
                "          {VegaLite.V2.InlineData.values =\n",
                "            `Jsons\n",
                "              [&lt;abstr&gt;; &lt;abstr&gt;; &lt;abstr&gt;; &lt;abstr&gt;; &lt;abstr&gt;; &lt;abstr&gt;; &lt;abstr&gt;;\n",
                "               &lt;abstr&gt;; &lt;abstr&gt;];\n",
                "           format = None});\n",
                "     config = None; background = None; autoResize = None;\n",
                "     schema = &quot;https://vega.github.io/schema/vega-lite/v2.json&quot;}\n",
                "</pre>"
              ],
              "output_type": "pyout",
              "prompt_number": 5,
              "metadata": {}
            }
          ],
          "input": [
            "let spec =\n",
            "  Aplomb.Dynamic.(simple ~data ~description:\"A simple bar chart with embedded data.\" (`Mark `Bar)\n",
            "    |> x \"a\" ~typ:`Ordinal\n",
            "    |> y \"b\" ~typ:`Quantitative\n",
            "    |> finish)"
          ],
          "metadata": {},
          "cell_type": "code",
          "prompt_number": 5,
          "language": "python",
          "collapsed": false
        },
        {
          "outputs": [
            {
              "html": [
                "<iframe height=\"100%\" width=\"100%\" srcdoc='<!DOCTYPE html><head><title>Figure 1</title><meta charset=\"utf-8\"></meta><style media=\"screen\">.vega-actions a {\n",
                "    margin-right: 5px;}</style><script src=\"https://cdnjs.cloudflare.com/ajax/libs/babel-polyfill/6.26.0/polyfill.js\"></script><script src=\"https://cdnjs.cloudflare.com/ajax/libs/vega/3.0.7/vega.js\"></script><script src=\"https://cdnjs.cloudflare.com/ajax/libs/vega-lite/2.0.1/vega-lite.js\"></script><script src=\"https://cdnjs.cloudflare.com/ajax/libs/vega-embed/3.0.0-rc7/vega-embed.js\"></script></head><body><div id=\"aplomb\"></div><script>\n",
                "var v1Spec = {\"$schema\":\"https://vega.github.io/schema/vega-lite/v2.json\",\"data\":{\"values\":[{\"b\":28,\"a\":\"A\"},{\"b\":55,\"a\":\"B\"},{\"b\":43,\"a\":\"C\"},{\"b\":91,\"a\":\"D\"},{\"b\":81,\"a\":\"E\"},{\"b\":53,\"a\":\"F\"},{\"b\":19,\"a\":\"G\"},{\"b\":87,\"a\":\"H\"},{\"b\":52,\"a\":\"I\"}]},\"description\":\"A simple bar chart with embedded data.\",\"encoding\":{\"x\":{\"field\":\"a\",\"type\":\"ordinal\"},\"y\":{\"field\":\"b\",\"type\":\"quantitative\"}},\"height\":395,\"mark\":\"bar\",\"width\":640};\n",
                "vegaEmbed(\"#aplomb\", v1Spec, {\"actions\":{\"export\":true,\"source\":true,\"editor\":true}}).then(function(result){}).catch(console.error);</script></body>' seamless frameborder=\"0\" style=\"overflow: hidden; height: 100%; width: 100%;\" scrolling=\"no\" onload=\"this.style.height=this.contentDocument.body.scrollHeight + 15 + 'px';\"></iframe>"
              ],
              "output_type": "display_data",
              "metadata": {}
            },
            {
              "html": [
                "<pre style=\"color:slategray;max-height:100px;overflow:hidden\" \n",
                "onclick=\"\n",
                "if (this.style.maxHeight === 'none') \n",
                "    this.style.maxHeight = '100px';\n",
                "else\n",
                "    this.style.maxHeight = 'none'; \n",
                "\">- : unit = ()\n",
                "</pre>"
              ],
              "output_type": "pyout",
              "prompt_number": 6,
              "metadata": {}
            }
          ],
          "input": [
            "IAplomb.show spec"
          ],
          "metadata": {},
          "cell_type": "code",
          "prompt_number": 6,
          "language": "python",
          "collapsed": false
        },
        {
          "outputs": [],
          "input": [],
          "metadata": {},
          "cell_type": "code",
          "prompt_number": 2,
          "language": "python",
          "collapsed": false
        },
        {
          "outputs": [],
          "input": [],
          "metadata": {},
          "cell_type": "code",
          "language": "python",
          "collapsed": false
        }
      ],
      "metadata": {}
    }
  ],
  "metadata": { "name": "", "language": "ocaml" },
  "nbformat": 3,
  "nbformat_minor": 0
}